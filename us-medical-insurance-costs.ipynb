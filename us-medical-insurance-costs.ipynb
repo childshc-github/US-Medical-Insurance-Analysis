{
 "cells": [
  {
   "cell_type": "markdown",
   "metadata": {},
   "source": [
    "# U.S. Medical Insurance Costs Project"
   ]
  },
  {
   "cell_type": "markdown",
   "metadata": {},
   "source": [
    "#### The following cells include code utilizing Python functions, loops, classes, and more to make interpretations from a medical insurance cost dataset. "
   ]
  },
  {
   "cell_type": "markdown",
   "metadata": {},
   "source": [
    "Dataset info:\n",
    "\n",
    "`age`: age of primary beneficiary in years\n",
    "\n",
    "`sex`: insurance contractor gender (female, male)\n",
    "\n",
    "`bmi`: Body mass index, providing an understanding of body, weights that are relatively high or low relative to height,\n",
    "objective index of body weight (kg / m ^ 2) using the ratio of height to weight, ideally 18.5 to 24.9\n",
    "\n",
    "`children`: Number of children covered by health insurance / Number of dependents\n",
    "\n",
    "`smoker`: Smoking (yes or no)\n",
    "\n",
    "`region`: the beneficiary's residential area in the US (northeast, southeast, southwest, or northwest)\n",
    "\n",
    "`charges`: Individual medical costs billed by health insurance\n",
    "\n",
    "Source: https://www.kaggle.com/mirichoi0218/insurance"
   ]
  },
  {
   "cell_type": "markdown",
   "metadata": {},
   "source": [
    "***"
   ]
  },
  {
   "cell_type": "markdown",
   "metadata": {},
   "source": [
    "### Step 1: Importing the dataset"
   ]
  },
  {
   "cell_type": "code",
   "execution_count": 243,
   "metadata": {
    "execution": {
     "iopub.execute_input": "2022-01-28T01:16:22.171160Z",
     "iopub.status.busy": "2022-01-28T01:16:22.171160Z",
     "iopub.status.idle": "2022-01-28T01:16:22.187642Z",
     "shell.execute_reply": "2022-01-28T01:16:22.186669Z",
     "shell.execute_reply.started": "2022-01-28T01:16:22.171160Z"
    },
    "tags": []
   },
   "outputs": [],
   "source": [
    "import csv\n",
    "\n",
    "age_raw = []\n",
    "sex_raw = []\n",
    "bmi_raw = []\n",
    "children_raw = []\n",
    "smoker_raw = []\n",
    "region_raw = []\n",
    "charges_raw = []\n",
    "\n",
    "with open(r'C:\\Users\\hchld\\Documents\\Programming\\Codecademy\\US_Medical_Insurance\\insurance.csv', newline = '') as csv_data:\n",
    "    csv_data_dict = csv.DictReader(csv_data)\n",
    "    for row in csv_data_dict:\n",
    "        age_raw.append(row['age'])\n",
    "        sex_raw.append(row['sex'])\n",
    "        bmi_raw.append(row['bmi'])\n",
    "        children_raw.append(row['children'])\n",
    "        smoker_raw.append(row['smoker'])\n",
    "        region_raw.append(row['region'])\n",
    "        charges_raw.append(row['charges'])\n",
    "\n",
    "#checking:\n",
    "#print(age_raw)\n",
    "#print(sex_raw)\n",
    "#print(bmi_raw)\n",
    "#print(children_raw)\n",
    "#print(smoker_raw)\n",
    "#print(region_raw)\n",
    "#print(charges_raw)"
   ]
  },
  {
   "cell_type": "markdown",
   "metadata": {},
   "source": [
    "### Step 2: Transforming the dataset"
   ]
  },
  {
   "cell_type": "code",
   "execution_count": 244,
   "metadata": {
    "execution": {
     "iopub.execute_input": "2022-01-28T01:16:24.520058Z",
     "iopub.status.busy": "2022-01-28T01:16:24.520058Z",
     "iopub.status.idle": "2022-01-28T01:16:24.530996Z",
     "shell.execute_reply": "2022-01-28T01:16:24.530037Z",
     "shell.execute_reply.started": "2022-01-28T01:16:24.520058Z"
    },
    "tags": []
   },
   "outputs": [],
   "source": [
    "#convert age, bmi, children, and charges string to integer or float w/ list comprehension\n",
    "age = [int(years) for years in age_raw]\n",
    "bmi = [float(value) for value in bmi_raw]\n",
    "children = [int(kids) for kids in children_raw]\n",
    "charges = [float(cost) for cost in charges_raw]\n",
    "\n",
    "#checking:\n",
    "#print(age)\n",
    "#print(bmi)\n",
    "#print(children)\n",
    "#print(charges)"
   ]
  },
  {
   "cell_type": "code",
   "execution_count": 245,
   "metadata": {
    "execution": {
     "iopub.execute_input": "2022-01-28T01:16:25.276281Z",
     "iopub.status.busy": "2022-01-28T01:16:25.275334Z",
     "iopub.status.idle": "2022-01-28T01:16:25.295438Z",
     "shell.execute_reply": "2022-01-28T01:16:25.294458Z",
     "shell.execute_reply.started": "2022-01-28T01:16:25.276281Z"
    },
    "tags": []
   },
   "outputs": [],
   "source": [
    "#convert sex string to integer (1 = male, 0 = female)\n",
    "for gender in range(len(sex)):\n",
    "    if sex[gender] == 'male':\n",
    "        sex[gender] = 1\n",
    "    elif sex[gender] == 'female':\n",
    "        sex[gender] = 0\n",
    "\n",
    "#print(sex)"
   ]
  },
  {
   "cell_type": "code",
   "execution_count": 246,
   "metadata": {
    "execution": {
     "iopub.execute_input": "2022-01-28T01:16:25.738512Z",
     "iopub.status.busy": "2022-01-28T01:16:25.738512Z",
     "iopub.status.idle": "2022-01-28T01:16:25.745493Z",
     "shell.execute_reply": "2022-01-28T01:16:25.745493Z",
     "shell.execute_reply.started": "2022-01-28T01:16:25.738512Z"
    },
    "tags": []
   },
   "outputs": [],
   "source": [
    "#convert smoker strings to integers (yes = 1, no = 0)\n",
    "for item in range(len(smoker)):\n",
    "    if smoker[item] == 'yes':\n",
    "        smoker[item] = 1\n",
    "    elif smoker[item] == 'no':\n",
    "        smoker[item] = 0\n",
    "        \n",
    "#print(smoker)"
   ]
  },
  {
   "cell_type": "code",
   "execution_count": 247,
   "metadata": {
    "execution": {
     "iopub.execute_input": "2022-01-28T01:16:26.363919Z",
     "iopub.status.busy": "2022-01-28T01:16:26.363919Z",
     "iopub.status.idle": "2022-01-28T01:16:26.376056Z",
     "shell.execute_reply": "2022-01-28T01:16:26.375181Z",
     "shell.execute_reply.started": "2022-01-28T01:16:26.363919Z"
    },
    "tags": []
   },
   "outputs": [],
   "source": [
    "#convert region string to integer (southwest = 0, northwest = 1, southeast = 2, northeast = 3)\n",
    "for area in range(len(region)):\n",
    "    if region[area] == 'southwest':\n",
    "        region[area] = 0\n",
    "    elif region[area] == 'northwest':\n",
    "        region[area] = 1\n",
    "    if region[area] == 'southeast':\n",
    "        region[area] = 2\n",
    "    if region[area] == 'northeast':\n",
    "        region[area] = 3\n",
    "\n",
    "#print(region)"
   ]
  },
  {
   "cell_type": "markdown",
   "metadata": {},
   "source": [
    "### Step 3: Analyzing the dataset"
   ]
  },
  {
   "cell_type": "code",
   "execution_count": 248,
   "metadata": {
    "execution": {
     "iopub.execute_input": "2022-01-28T01:16:27.856742Z",
     "iopub.status.busy": "2022-01-28T01:16:27.856742Z",
     "iopub.status.idle": "2022-01-28T01:16:27.874844Z",
     "shell.execute_reply": "2022-01-28T01:16:27.873896Z",
     "shell.execute_reply.started": "2022-01-28T01:16:27.856742Z"
    },
    "tags": []
   },
   "outputs": [
    {
     "name": "stdout",
     "output_type": "stream",
     "text": [
      "The average age is 39.2 and the range is 46.\n",
      "The average bmi is 30.7 and the range is 37.17.\n",
      "The average number of children is 1.1 and the range is 5.\n",
      "The average insurance cost is $13270.42 and the range is $62648.55.\n"
     ]
    }
   ],
   "source": [
    "#Average and range calculator function\n",
    "def avg_rng_finder(list_name):\n",
    "    list_total = 0\n",
    "    for item in list_name:\n",
    "        list_total += item\n",
    "    list_average = list_total / len(list_name)\n",
    "    list_range = max(list_name) - min(list_name)\n",
    "    return list_average, list_range\n",
    "\n",
    "#Average and range for age\n",
    "age_average, age_range = avg_rng_finder(age)\n",
    "print(\"The average age is {} and the range is {}.\".format(round(age_average, 1), age_range))\n",
    "\n",
    "#Average and range for bmi\n",
    "bmi_average, bmi_range = avg_rng_finder(bmi)\n",
    "print(\"The average bmi is {} and the range is {}.\".format(round(bmi_average, 1), bmi_range))\n",
    "\n",
    "#Average and range for children\n",
    "children_average, children_range = avg_rng_finder(children)\n",
    "print(\"The average number of children is {} and the range is {}.\".format(round(children_average, 1), children_range))\n",
    "\n",
    "#Average and range for charges\n",
    "charges_average, charges_range = avg_rng_finder(charges)\n",
    "print(\"The average insurance cost is ${} and the range is ${}.\".format(round(charges_average, 2), round(charges_range, 2)))"
   ]
  },
  {
   "cell_type": "code",
   "execution_count": 249,
   "metadata": {
    "execution": {
     "iopub.execute_input": "2022-01-28T01:16:33.538539Z",
     "iopub.status.busy": "2022-01-28T01:16:33.537541Z",
     "iopub.status.idle": "2022-01-28T01:16:33.563452Z",
     "shell.execute_reply": "2022-01-28T01:16:33.563452Z",
     "shell.execute_reply.started": "2022-01-28T01:16:33.538539Z"
    },
    "tags": []
   },
   "outputs": [
    {
     "name": "stdout",
     "output_type": "stream",
     "text": [
      "The most common sex is male, with a total number of 676 in a population of 1338.\n",
      "The average individual is a non-smoker, with a total of 1064 non-smokers in a population of 1338.\n",
      "The average person in this dataset lives in the southeast region.\n"
     ]
    }
   ],
   "source": [
    "#Determining most common using class\n",
    "class Common:\n",
    "    \n",
    "    def __init__(self):\n",
    "        self.sex = sex\n",
    "        self.smoker = smoker\n",
    "        self.region = region\n",
    "\n",
    "    def common_sex():\n",
    "        total_male = 0\n",
    "        for gender in sex:\n",
    "            total_male += gender\n",
    "        #since male = 1 and female = 0, total of list = total number of males\n",
    "        if total_male > len(sex) / 2:\n",
    "            return (\"The most common sex is male, with a total number of {} in a population of {}.\".format(total_male, len(sex)))\n",
    "        elif total_male < len(sex) / 2:\n",
    "            return (\"The most common sex is female, with a total number of {} in a population of {}.\".format((len(sex) - total_male), len(sex)))\n",
    "        else:\n",
    "            return (\"The number of males and females is equal in a population of {}.\".format(len(sex)))\n",
    "    \n",
    "    def common_smoker():\n",
    "        total_smoker = 0\n",
    "        total_nonsmoker = 0\n",
    "        for answer in smoker:\n",
    "            if answer == 1:\n",
    "                total_smoker += 1\n",
    "            if answer == 0:\n",
    "                total_nonsmoker += 1\n",
    "        if total_smoker > total_nonsmoker:\n",
    "            return (\"The average individual is a smoker, with a total of {} smokers in a population of {}.\".format(total_smoker, len(smoker)))\n",
    "        elif total_smoker < total_nonsmoker:\n",
    "            return (\"The average individual is a non-smoker, with a total of {} non-smokers in a population of {}.\".format(total_nonsmoker, len(smoker)))\n",
    "        else:\n",
    "            return (\"There is an equal number of smokers and non-smokers in a population of {}.\".format(len(smoker)))\n",
    "        \n",
    "    def common_region():\n",
    "        #(southwest = 0, northwest = 1, southeast = 2, northeast = 3)\n",
    "        southwest = 0\n",
    "        northwest = 0\n",
    "        southeast = 0\n",
    "        northeast = 0\n",
    "        for location in region:\n",
    "            if location == 0:\n",
    "                southwest += 1\n",
    "            if location == 1:\n",
    "                northwest += 1\n",
    "            if location == 2:\n",
    "                southeast += 1\n",
    "            if location == 3:\n",
    "                northeast += 1\n",
    "        if southwest > northwest and southwest > southeast and southwest > northeast:\n",
    "            return \"The average person in this dataset lives in the southwest region.\"\n",
    "        elif northwest > southwest and northwest > southeast and northwest > northeast:\n",
    "            return \"The average person in this dataset lives in the northwest region.\"\n",
    "        elif southeast > southwest and southeast > northwest and southeast > northeast:\n",
    "            return \"The average person in this dataset lives in the southeast region.\"\n",
    "        elif northeast > northwest and northeast > southwast and northeast > southwest:\n",
    "            return \"The average person in this dataset lives in the southwest region.\"\n",
    "        \n",
    "#most common sex\n",
    "most_common_sex = Common.common_sex()\n",
    "print(most_common_sex)\n",
    "#most common smoker\n",
    "most_common_smoker = Common.common_smoker()\n",
    "print(most_common_smoker)\n",
    "#most common region\n",
    "most_common_region = Common.common_region()\n",
    "print(most_common_region)"
   ]
  },
  {
   "cell_type": "code",
   "execution_count": 250,
   "metadata": {
    "execution": {
     "iopub.execute_input": "2022-01-28T01:16:35.678215Z",
     "iopub.status.busy": "2022-01-28T01:16:35.678215Z",
     "iopub.status.idle": "2022-01-28T01:16:35.686194Z",
     "shell.execute_reply": "2022-01-28T01:16:35.686194Z",
     "shell.execute_reply.started": "2022-01-28T01:16:35.678215Z"
    },
    "tags": []
   },
   "outputs": [
    {
     "name": "stdout",
     "output_type": "stream",
     "text": [
      "The most expensive charge is $63770.43 and has the following attributes: [54, 0, 47.41, 0, 1, 2]\n",
      "The least expensive charge is $1121.87 and has the following attributes: [18, 1, 23.21, 0, 0, 2]\n"
     ]
    }
   ],
   "source": [
    "#Create master 2D list\n",
    "all_dataset = [[year, gender, mass, kids, smoke, area, cost] for year, gender, mass, kids, smoke, area, cost in zip(age,sex,bmi,children,smoker,region,charges)]\n",
    "\n",
    "#Most expensive plans w/ attributes\n",
    "most_expensive_charge = 0\n",
    "most_expensive_attributes = []\n",
    "\n",
    "for item in all_dataset:\n",
    "    if item[-1] > most_expensive_charge:\n",
    "        most_expensive_charge = item[-1]\n",
    "        most_expensive_attributes = item\n",
    "print(\"The most expensive charge is ${} and has the following attributes: {}\".format(round(most_expensive_charge, 2), most_expensive_attributes[:-1]))\n",
    "\n",
    "#cheapest plan w/ attributes\n",
    "least_expensive_charge = 100000\n",
    "least_expensive_attributes = []\n",
    "\n",
    "for item in all_dataset:\n",
    "    if item[-1] < least_expensive_charge:\n",
    "        least_expensive_charge = item[-1]\n",
    "        least_expensive_attributes = item\n",
    "print(\"The least expensive charge is ${} and has the following attributes: {}\".format(round(least_expensive_charge, 2), least_expensive_attributes[:-1]))"
   ]
  },
  {
   "cell_type": "markdown",
   "metadata": {},
   "source": [
    "## Results"
   ]
  },
  {
   "cell_type": "markdown",
   "metadata": {},
   "source": [
    "This project demonstrates Python utility for data science methods. From the calculations in Step 3, a number of conclusions can be established:\n",
    "- The average age is 39.2 with a range of 46\n",
    "- The average BMI is 30.7 with a range of 37.17\n",
    "- The average number of children is 1.1 with a range of 5\n",
    "- The average insurance cost is \\$13270.42 and the range is \\\\$62648.55.\n",
    "- The most common sex is male, with a total number of 676 in a population of 1338.\n",
    "- The average individual is a non-smoker, with a total of 1064 non-smokers in a population of 1338.\n",
    "- The average person in this dataset lives in the southeast region.\n",
    "- The most expensive charge is \\$63770.43 and has the following attributes: [54, 0, 47.41, 0, 1, 2]\n",
    "    - This individual is a 54 year-old female smoker with a BMI of 47.41 and no children who lives in the southeast region\n",
    "- The least expensive charge is \\$1121.87 and has the following attributes: [18, 1, 23.21, 0, 0, 2]\n",
    "    - This individual is an 18 year-old male non-smoker with a BMI of 23.21 and no children who lives in the southwest region\n",
    "\n",
    "A number of actionable steps can be made from these results. For example, individuals in these regions can mirror the least expensive insurance plan, when possible, to reduce their insurance cost."
   ]
  },
  {
   "cell_type": "code",
   "execution_count": null,
   "metadata": {},
   "outputs": [],
   "source": []
  }
 ],
 "metadata": {
  "kernelspec": {
   "display_name": "Python 3",
   "language": "python",
   "name": "python3"
  },
  "language_info": {
   "codemirror_mode": {
    "name": "ipython",
    "version": 3
   },
   "file_extension": ".py",
   "mimetype": "text/x-python",
   "name": "python",
   "nbconvert_exporter": "python",
   "pygments_lexer": "ipython3",
   "version": "3.8.8"
  }
 },
 "nbformat": 4,
 "nbformat_minor": 4
}
